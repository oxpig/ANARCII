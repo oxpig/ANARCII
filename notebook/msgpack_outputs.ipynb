{
 "cells": [
  {
   "cell_type": "code",
   "execution_count": null,
   "metadata": {},
   "outputs": [],
   "source": [
    "# How to work with msgpack outputs\n",
    "from anarcii import Anarcii\n",
    "\n",
    "# Lets create a msgpack file by entering batch mode (set max_seqs_len to 2)\n",
    "model = Anarcii(\n",
    "    seq_type=\"antibody\",\n",
    "    mode=\"accuracy\",\n",
    "    max_seqs_len=2,\n",
    "    ncpu=1\n",
    ")\n",
    "\n",
    "seq = \"./example_data/monoclonals_clean.fasta\"\n",
    "\n",
    "# Results is the path to the msgpack file.\n",
    "results = model.number(seq)"
   ]
  },
  {
   "cell_type": "code",
   "execution_count": null,
   "metadata": {},
   "outputs": [],
   "source": [
    "# A new msgpack file will be created in the current directory\n",
    "# This can be opened with the from_msgpakc_map function\n",
    "from anarcii.utils import from_msgpack_map\n",
    "\n",
    "gen_object = from_msgpack_map(results)\n",
    "\n",
    "# This is a generator object that can be iterated over\n",
    "dt = next(gen_object)\n",
    "print(dt)"
   ]
  },
  {
   "cell_type": "code",
   "execution_count": null,
   "metadata": {},
   "outputs": [],
   "source": [
    "# Or you can iterate over the generator object\n",
    "\n",
    "# Must reload\n",
    "gen_object = from_msgpack_map(results)\n",
    "for i in gen_object:\n",
    "    print(i)"
   ]
  },
  {
   "cell_type": "code",
   "execution_count": null,
   "metadata": {},
   "outputs": [],
   "source": [
    "# If the msgpack file is huge then only a predefined batch size will be loaded\n",
    "\n",
    "gen_object = from_msgpack_map(results, chunk_size=1)\n",
    "for i in gen_object:\n",
    "    print(i)"
   ]
  },
  {
   "cell_type": "code",
   "execution_count": null,
   "metadata": {},
   "outputs": [],
   "source": [
    "# Even if the number of seqs does not exceed batch size - you can still output to msgpack\n",
    "from anarcii import Anarcii\n",
    "\n",
    "model = Anarcii()\n",
    "seq = \"./example_data/monoclonals_clean.fasta\"\n",
    "results = model.number(seq)\n",
    "model.to_msgpack(\"tmp/test.msgpack\")"
   ]
  },
  {
   "cell_type": "code",
   "execution_count": null,
   "metadata": {},
   "outputs": [],
   "source": [
    "# You can convert to an alt number scheme.\n",
    "kab = model.to_scheme(\"kabat\")\n",
    "model.to_msgpack(\"tmp/test_kabat.msgpack\")"
   ]
  }
 ],
 "metadata": {
  "kernelspec": {
   "display_name": "mobydick",
   "language": "python",
   "name": "python3"
  },
  "language_info": {
   "codemirror_mode": {
    "name": "ipython",
    "version": 3
   },
   "file_extension": ".py",
   "mimetype": "text/x-python",
   "name": "python",
   "nbconvert_exporter": "python",
   "pygments_lexer": "ipython3",
   "version": "3.13.2"
  }
 },
 "nbformat": 4,
 "nbformat_minor": 2
}
